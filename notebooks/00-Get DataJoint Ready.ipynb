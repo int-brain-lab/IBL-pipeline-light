{
 "cells": [
  {
   "cell_type": "markdown",
   "metadata": {},
   "source": [
    "# Configuring DataJoint\n",
    "\n",
    "Before you can start using anything with DataJoint, you need to configure DataJoint. Installing `ibl-pipeline` packaged automatically install the latest DataJoint with it. In order for DataJoint to work, you need to tell it informatoin about the database connection, namely the database hostname."
   ]
  },
  {
   "cell_type": "markdown",
   "metadata": {},
   "source": [
    "Start by importing the package `datajoint`. Convention is to import it as `dj`."
   ]
  },
  {
   "cell_type": "code",
   "execution_count": null,
   "metadata": {},
   "outputs": [],
   "source": [
    "import datajoint as dj"
   ]
  },
  {
   "cell_type": "code",
   "execution_count": null,
   "metadata": {},
   "outputs": [],
   "source": [
    "dj.config"
   ]
  },
  {
   "cell_type": "markdown",
   "metadata": {},
   "source": [
    "## Host, user and password"
   ]
  },
  {
   "cell_type": "markdown",
   "metadata": {},
   "source": [
    "The following fields are essential to configure to set up the DataJoint connection to the ibl database."
   ]
  },
  {
   "cell_type": "code",
   "execution_count": null,
   "metadata": {},
   "outputs": [],
   "source": [
    "from getpass import getpass # avoid printing out password\n",
    "\n",
    "dj.config['database.host'] = 'datajoint-public.internationalbrainlab.org'\n",
    "dj.config['database.user'] = '{USERNAME}'\n",
    "dj.config['database.password'] = getpass('Enter your password: ')"
   ]
  },
  {
   "cell_type": "markdown",
   "metadata": {},
   "source": [
    "+ For **internal users**: \n",
    "\n",
    "    + host name: 'datajoint.internationalbrainlab.org'\n",
    "    + user and pass: Contact Shan Shen for the username and password if you are new to IBL\n",
    "\n",
    "+ For **external users**:\n",
    "\n",
    "    + host name: 'datajoint-public.internationalbrainlab.org'\n",
    "    + user and pass: currently there are two approaches to get username and password for external users:\n",
    "    \n",
    "        + For **NeuroMatch Academy users**: fill in [a form](https://datajoint.io/events/nma-ibl-public) to get an email containing the credentials.\n",
    "        + For **general users**: visit our [public JupyterHub](https://jupyterhub.internationalbrainlab.org) and sign up with your GitHub account. The notebook `public_notebooks/04-Access the database locally.ipynb` gives instructions on the username and password information."
   ]
  },
  {
   "cell_type": "markdown",
   "metadata": {},
   "source": [
    "Now we are pointing to the right place, let's try connecting. You can explicitly trigger a connection with `dj.conn()`"
   ]
  },
  {
   "cell_type": "code",
   "execution_count": null,
   "metadata": {},
   "outputs": [],
   "source": [
    "dj.conn()"
   ]
  },
  {
   "cell_type": "markdown",
   "metadata": {},
   "source": [
    "Once you verify that the connection is working, you'd want to save the configuration so that you don't have to keep on changing the field values everytime you work with DataJoint. Simply run the following:"
   ]
  },
  {
   "cell_type": "code",
   "execution_count": null,
   "metadata": {},
   "outputs": [],
   "source": [
    "dj.config.save_local()"
   ]
  },
  {
   "cell_type": "code",
   "execution_count": null,
   "metadata": {},
   "outputs": [],
   "source": [
    "ls"
   ]
  },
  {
   "cell_type": "markdown",
   "metadata": {},
   "source": [
    "Notice that this created `dj_local_conf.json` in the local directory."
   ]
  },
  {
   "cell_type": "markdown",
   "metadata": {},
   "source": [
    "Inside the dj_local_conf.json, you will find saved dj.config information, and notice that `database.host`, `database.user` and `database.password` have been set to the correct values."
   ]
  }
 ],
 "metadata": {
  "kernelspec": {
   "display_name": "Python 3",
   "language": "python",
   "name": "python3"
  },
  "language_info": {
   "codemirror_mode": {
    "name": "ipython",
    "version": 3
   },
   "file_extension": ".py",
   "mimetype": "text/x-python",
   "name": "python",
   "nbconvert_exporter": "python",
   "pygments_lexer": "ipython3",
   "version": "3.8.0"
  }
 },
 "nbformat": 4,
 "nbformat_minor": 2
}
